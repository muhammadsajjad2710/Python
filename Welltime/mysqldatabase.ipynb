{
 "cells": [
  {
   "cell_type": "code",
   "execution_count": 1,
   "id": "c24bc84a",
   "metadata": {},
   "outputs": [
    {
     "name": "stdout",
     "output_type": "stream",
     "text": [
      "Collecting mysql-connector-python\n",
      "  Downloading mysql_connector_python-8.4.0-cp39-cp39-win_amd64.whl (14.4 MB)\n",
      "Installing collected packages: mysql-connector-python\n",
      "Successfully installed mysql-connector-python-8.4.0\n",
      "Note: you may need to restart the kernel to use updated packages.\n"
     ]
    }
   ],
   "source": [
    "pip install mysql-connector-python\n"
   ]
  },
  {
   "cell_type": "code",
   "execution_count": 1,
   "id": "98e73365",
   "metadata": {},
   "outputs": [],
   "source": [
    "import mysql.connector\n",
    "import pandas as pd"
   ]
  },
  {
   "cell_type": "code",
   "execution_count": 2,
   "id": "6c0863ed",
   "metadata": {},
   "outputs": [
    {
     "name": "stdout",
     "output_type": "stream",
     "text": [
      "Connected to MySQL database: new\n"
     ]
    }
   ],
   "source": [
    "# Replace these values with your MySQL credentials and database information\n",
    "username = 'root'\n",
    "password = ''\n",
    "database_name = 'new'\n",
    "host = 'localhost'  # e.g., 'localhost'\n",
    "\n",
    "# Establish connection to MySQL\n",
    "try:\n",
    "    conn = mysql.connector.connect(\n",
    "        user=username,\n",
    "        password=password,\n",
    "        host=host,\n",
    "        database=database_name\n",
    "    )\n",
    "    print(\"Connected to MySQL database:\", conn.database)\n",
    "except mysql.connector.Error as err:\n",
    "    print(\"Error connecting to MySQL:\", err)\n"
   ]
  },
  {
   "cell_type": "code",
   "execution_count": 6,
   "id": "e59b98a0",
   "metadata": {},
   "outputs": [
    {
     "name": "stdout",
     "output_type": "stream",
     "text": [
      "Tables in the database:\n",
      "auth_group\n",
      "auth_group_permissions\n",
      "auth_permission\n",
      "contract_id\n",
      "dashboard_adminhod\n",
      "dashboard_compasscredentials\n",
      "dashboard_contract_details\n",
      "dashboard_customuser\n",
      "dashboard_customuser_groups\n",
      "dashboard_customuser_user_permissions\n",
      "dashboard_nonsuperannuable\n",
      "dashboard_staffs\n",
      "dashboard_superannuationdetails\n",
      "dashboard_units_details\n",
      "data_report\n",
      "django_admin_log\n",
      "django_content_type\n",
      "django_migrations\n",
      "django_session\n",
      "performers\n"
     ]
    }
   ],
   "source": [
    "\n",
    "# Create a cursor object\n",
    "cursor = conn.cursor()\n",
    "\n",
    "# Query to fetch table names from information_schema\n",
    "query = \"SHOW TABLES\"\n",
    "\n",
    "# Execute the query\n",
    "cursor.execute(query)\n",
    "\n",
    "# Fetch all the table names\n",
    "table_names = cursor.fetchall()\n",
    "\n",
    "if table_names:\n",
    "    print(\"Tables in the database:\")\n",
    "    for table in table_names:\n",
    "        print(table[0])\n",
    "else:\n",
    "    print(\"No tables found in the database.\")"
   ]
  },
  {
   "cell_type": "code",
   "execution_count": 5,
   "id": "8265832b",
   "metadata": {},
   "outputs": [
    {
     "name": "stdout",
     "output_type": "stream",
     "text": [
      "Table Structure of 'performers':\n",
      "         Column    Data Type\n",
      "0            id      int(11)\n",
      "1  Performer_ID      int(11)\n",
      "2       Surname  varchar(50)\n",
      "3      Forename  varchar(50)\n",
      "4    GDC_Number      int(11)\n"
     ]
    }
   ],
   "source": [
    "# Create a cursor object\n",
    "cursor = conn.cursor()\n",
    "\n",
    "# Define the table name\n",
    "table_name = 'performers'\n",
    "\n",
    "# Query to fetch table structure\n",
    "query = f\"SHOW COLUMNS FROM {table_name}\"\n",
    "\n",
    "# Execute the query\n",
    "cursor.execute(query)\n",
    "\n",
    "# Fetch all rows from the result\n",
    "rows = cursor.fetchall()\n",
    "\n",
    "# Get column names and data types\n",
    "column_info = [(row[0], row[1]) for row in rows]\n",
    "\n",
    "# Create a DataFrame for displaying table structure\n",
    "df_structure = pd.DataFrame(column_info, columns=['Column', 'Data Type'])\n",
    "\n",
    "# Display the table structure\n",
    "print(f\"Table Structure of '{table_name}':\")\n",
    "print(df_structure)\n"
   ]
  },
  {
   "cell_type": "code",
   "execution_count": null,
   "id": "d099f945",
   "metadata": {},
   "outputs": [],
   "source": []
  }
 ],
 "metadata": {
  "kernelspec": {
   "display_name": "Python 3 (ipykernel)",
   "language": "python",
   "name": "python3"
  },
  "language_info": {
   "codemirror_mode": {
    "name": "ipython",
    "version": 3
   },
   "file_extension": ".py",
   "mimetype": "text/x-python",
   "name": "python",
   "nbconvert_exporter": "python",
   "pygments_lexer": "ipython3",
   "version": "3.9.7"
  }
 },
 "nbformat": 4,
 "nbformat_minor": 5
}
